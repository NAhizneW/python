{
 "cells": [
  {
   "cell_type": "code",
   "execution_count": null,
   "metadata": {},
   "outputs": [],
   "source": [
    "# 爬天梯 递推\n",
    "def stairs(n):\n",
    "    f[0] = 1\n",
    "    f[1] = 1\n",
    "    if n > 1:\n",
    "        for i in range(2, n+1):\n",
    "            f[i] = f[i-1] + f[i-2]\n",
    "    return f[n]\n",
    "n = int(input())\n",
    "N = 30\n",
    "f = [0]*N\n",
    "print(stairs(n))"
   ]
  },
  {
   "cell_type": "code",
   "execution_count": null,
   "metadata": {},
   "outputs": [],
   "source": [
    "# 爬天梯 递归\n",
    "def climbStairs(n):\n",
    "    if n <= 1:\n",
    "        return 1\n",
    "    return climbStairs(n-1) + climbStairs(n-2)  # 问题分解： 走法总数 = 走1步后的走法 + 走2步后的走法\n",
    "\n",
    "n = int(input())    # 输入一个整数n\n",
    "print(climbStairs(n))"
   ]
  },
  {
   "cell_type": "code",
   "execution_count": null,
   "metadata": {},
   "outputs": [],
   "source": [
    "# n个盘子里放m个苹果\n",
    "def f(m, n):\n",
    "    if m == 0:  # 一个苹果都不放，盘子全空，有1种放法\n",
    "        return 1\n",
    "    if n == 0:  # 没有盘子可以放，无解，有0种放法\n",
    "        return 0\n",
    "    if m < n:   # 如果苹果数<盘子数，最多有f(m,m)种放法\n",
    "        return f(m,m)\n",
    "    return f(m,n-1) + f(m-n,n)  # 否则，放法数=有空盘的方法+没有空盘的方\n",
    "\n",
    "t = int(input())\n",
    "for i in range(t):\n",
    "    m,n = map(int, input().split())\n",
    "    print(f(m,n))"
   ]
  },
  {
   "cell_type": "code",
   "execution_count": null,
   "metadata": {},
   "outputs": [],
   "source": [
    "# 求波兰表达式的值\n",
    "def p():\n",
    "    if s[0] == '+':\n",
    "        s.pop(0)    # 删除列表的第一个元素S[0]\n",
    "        return p() + p()    # 如果是'+'，则返回后面两数字之和\n",
    "    if s[0] == '-':\n",
    "        s.pop(0)\n",
    "        return p() - p()    # 如果是'-'，则返回后面两数字之差\n",
    "    if s[0] == '*':\n",
    "        s.pop(0)\n",
    "        return p() * p()    # 如果是'*'，则返回后面两数字之积\n",
    "    if s[0] == '/':\n",
    "        s.pop(0)\n",
    "        return p() / p()    # 如果是'/'，则返回后面两数字之商\n",
    "    if len(s) > 0:\n",
    "        return float(s.pop(0))  # 如果是数字，则返回该数字（转换成小数）\n",
    "\n",
    "s = input().split()     # 接受一行输入，根据题目要求：运算符和字符之间空格隔开\n",
    "print('%.6lf' % p())    # 按要求输出6位有效小数"
   ]
  },
  {
   "cell_type": "code",
   "execution_count": null,
   "metadata": {},
   "outputs": [],
   "source": [
    "# 2的幂次方表示\n",
    "def dfs(n):\n",
    "    max_n = 15\n",
    "    while(2 ** max_n > n):  # 也可以使用pow(2,max_n)\n",
    "        max_n -= 1\n",
    "    y = max_n\n",
    "    if y == 0:\n",
    "        print('2(0)', end = '')\n",
    "    if y == 1:\n",
    "        print('2', end = '')\n",
    "    if y > 1:\n",
    "        print('2(', end = '')\n",
    "        dfs(y)\n",
    "        print(')', end = '')\n",
    "    if n != 2 ** y:\n",
    "        print('+', end = '')\n",
    "        dfs(n - 2 ** y)\n",
    "n = int(input())\n",
    "dfs(n)\n"
   ]
  },
  {
   "cell_type": "code",
   "execution_count": null,
   "metadata": {},
   "outputs": [],
   "source": [
    "# 算24\n",
    "# 递归回溯遍历所有情况，每次从剩余数中取两个数，进行四种运算，将结果放回原有数字集合中，再次进行递归处理，直到最后剩余一个数字。有两个需要注意的地方：\n",
    "# 1、题目的括号虽然是优先级最高的，我们回溯已经涵盖了所有情况\n",
    "# 2、加法和乘法是符合交换律的，代码中可以避免重复计算\n",
    "\n",
    "def dfs(nums):\n",
    "    if not nums:\n",
    "        return False\n",
    "\n",
    "    if len(nums) == 1:\n",
    "        return abs(nums[0] - TARGET) < EPSILON\n",
    "\n",
    "    for i in range(len(nums)):\n",
    "        for j in range(len(nums)):\n",
    "            if i == j: continue\n",
    "            new_nums = [nums[k] for k in range(len(nums)) if (k != i and k != j)]\n",
    "            # 处理 +、*，条件i < j 是为了避免重复计算，因为运算的结果是一样的\n",
    "            if i < j and (dfs(new_nums + [nums[i] + nums[j]]) or dfs(new_nums + [nums[i] * nums[j]])):\n",
    "                return True\n",
    "            if dfs(new_nums + [nums[i] - nums[j]]):\n",
    "                return True\n",
    "            if abs(nums[j]) > EPSILON and dfs(new_nums + [nums[i] / nums[j]]):\n",
    "                return True\n",
    "    return False\n",
    "nums = list(map(int,input().split()))\n",
    "TARGET = 24\n",
    "EPSILON = 1e-6\n",
    "print(dfs(nums))"
   ]
  },
  {
   "cell_type": "code",
   "execution_count": 1,
   "metadata": {
    "tags": []
   },
   "outputs": [
    {
     "output_type": "stream",
     "name": "stdout",
     "text": "YES\nYES\nNO\n"
    }
   ],
   "source": [
    "def isZero(x):\n",
    "    return abs(x) < 1e-6\n",
    "\n",
    "\n",
    "def count24(a, n):\n",
    "    if (n == 1):\n",
    "        if isZero(a[0] - 24):#等于24\n",
    "            return True\n",
    "        else:\n",
    "            return False\n",
    "\n",
    "    for i in range(n - 1):\n",
    "        for j in range(i + 1, n):\n",
    "            temp = [0] * (n - 1)\n",
    "            iTemp = 0\n",
    "            for k in range(n):\n",
    "                if k != i and k != j:\n",
    "                    temp[iTemp] = a[k]\n",
    "                    iTemp += 1\n",
    "            temp[iTemp] = a[i] + a[j]\n",
    "            if count24(temp, n - 1):\n",
    "                return True\n",
    "            temp[iTemp] = a[i] * a[j]\n",
    "            if count24(temp, n - 1):\n",
    "                return True\n",
    "            temp[iTemp] = a[i] - a[j]\n",
    "            if count24(temp, n - 1):\n",
    "                return True\n",
    "            temp[iTemp] = a[j] - a[i]\n",
    "            if count24(temp, n - 1):\n",
    "                return True\n",
    "            if not isZero(a[j]):\n",
    "                temp[iTemp] = a[i] / a[j]\n",
    "                if count24(temp, n - 1):\n",
    "                    return True\n",
    "            if not isZero(a[i]):\n",
    "                temp[iTemp] = a[j] / a[i]\n",
    "                if (count24(temp, n - 1)):\n",
    "                    return True\n",
    "\n",
    "\n",
    "end = '0 0 0 0' # 遇到这个就结束\n",
    "lines = []\n",
    "for line in iter(input, end):\n",
    "    if len(line.split()) == 4:\n",
    "        lines.append(line)\n",
    "\n",
    "\n",
    "for line in lines:\n",
    "    num=[int(i) for i in line.split()]\n",
    "    if count24(num, len(num)):\n",
    "        print('YES')\n",
    "    else:\n",
    "        print('NO')\n"
   ]
  },
  {
   "cell_type": "code",
   "execution_count": 2,
   "metadata": {
    "tags": []
   },
   "outputs": [
    {
     "output_type": "stream",
     "name": "stdout",
     "text": "7\n"
    }
   ],
   "source": [
    "# 输入一个数，并转换它的数据类型\n",
    "\n",
    "n = int(input())\n",
    "print(n)\n"
   ]
  },
  {
   "cell_type": "code",
   "execution_count": 3,
   "metadata": {
    "tags": []
   },
   "outputs": [
    {
     "output_type": "stream",
     "name": "stdout",
     "text": "[1, 2, 3, 4, 5, 6, 7]\n"
    }
   ],
   "source": [
    "# 输入一行，这一行里有若干个数，把这些数分别作为元素存入列表a：\n",
    "\n",
    "a = list(map(int, input().split()))\n",
    "print(a)\n"
   ]
  },
  {
   "cell_type": "code",
   "execution_count": 5,
   "metadata": {
    "tags": []
   },
   "outputs": [
    {
     "output_type": "stream",
     "name": "stdout",
     "text": "['1 2 3 4', '5 6 7 8']\n"
    }
   ],
   "source": [
    "# 输入多行数据，直到输入结束标志位置\n",
    "end = '0 0 0 0' # end定义一个结束标志，遇到这个就结束\n",
    "lines = []\n",
    "for line in iter(input, end):\n",
    "    if len(line.split()) == 4:\n",
    "        lines.append(line)\n",
    "print(lines)\n"
   ]
  },
  {
   "cell_type": "code",
   "execution_count": null,
   "metadata": {},
   "outputs": [],
   "source": []
  }
 ],
 "metadata": {
  "language_info": {
   "codemirror_mode": {
    "name": "ipython",
    "version": 3
   },
   "file_extension": ".py",
   "mimetype": "text/x-python",
   "name": "python",
   "nbconvert_exporter": "python",
   "pygments_lexer": "ipython3",
   "version": "3.8.5-final"
  },
  "orig_nbformat": 2,
  "kernelspec": {
   "name": "python38564bitd05f6ad054734dfab8a4ad7a800a235f",
   "display_name": "Python 3.8.5 64-bit",
   "metadata": {
    "interpreter": {
     "hash": "db019ecaa3c28c44b8b78b540e02daf540360ff12e3512a6df42e6c69ce06a44"
    }
   }
  }
 },
 "nbformat": 4,
 "nbformat_minor": 2
}