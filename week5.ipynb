{
 "metadata": {
  "language_info": {
   "codemirror_mode": {
    "name": "ipython",
    "version": 3
   },
   "file_extension": ".py",
   "mimetype": "text/x-python",
   "name": "python",
   "nbconvert_exporter": "python",
   "pygments_lexer": "ipython3",
   "version": "3.8.6"
  },
  "orig_nbformat": 2,
  "kernelspec": {
   "name": "python3",
   "display_name": "Python 3.8.6 64-bit",
   "metadata": {
    "interpreter": {
     "hash": "db019ecaa3c28c44b8b78b540e02daf540360ff12e3512a6df42e6c69ce06a44"
    }
   }
  }
 },
 "nbformat": 4,
 "nbformat_minor": 2,
 "cells": [
  {
   "cell_type": "code",
   "execution_count": null,
   "metadata": {},
   "outputs": [],
   "source": [
    "\n",
    "# 往后冒泡\n",
    "def bubble_sort(lists):\n",
    "    for i in range(len(lists)-1):\n",
    "        for j in range(len(lists)-i-1):\n",
    "            if (lists[j] > lists[j+1]):\n",
    "                tmp = lists[j]\n",
    "                lists[j] = lists[j+1]\n",
    "                lists[j+1] = tmp\n",
    "            print(lists)\n",
    "\n",
    "numbers = [9,3,1,8,6,5,7,2,4]\n",
    "bubble_sort(numbers)\n"
   ]
  },
  {
   "cell_type": "code",
   "execution_count": 8,
   "metadata": {},
   "outputs": [
    {
     "output_type": "stream",
     "name": "stdout",
     "text": [
      "[1, 3, 9, 8, 6, 5, 7, 2, 4]\n[1, 2, 9, 8, 6, 5, 7, 3, 4]\n[1, 2, 3, 8, 6, 5, 7, 9, 4]\n[1, 2, 3, 4, 6, 5, 7, 9, 8]\n[1, 2, 3, 4, 5, 6, 7, 9, 8]\n[1, 2, 3, 4, 5, 6, 7, 9, 8]\n[1, 2, 3, 4, 5, 6, 7, 9, 8]\n[1, 2, 3, 4, 5, 6, 7, 8, 9]\n[1, 2, 3, 4, 5, 6, 7, 8, 9]\n"
     ]
    },
    {
     "output_type": "execute_result",
     "data": {
      "text/plain": [
       "[1, 2, 3, 4, 5, 6, 7, 8, 9]"
      ]
     },
     "metadata": {},
     "execution_count": 8
    }
   ],
   "source": [
    "\n",
    "# 选择排序\n",
    "def selection_sort(lists):\n",
    "    for i in range(len(lists)):\n",
    "        x = i\n",
    "        for j in range(i, len(lists)):\n",
    "            if lists[j] < lists[x]:\n",
    "                x = j\n",
    "        lists[i], lists[x] = lists[x], lists[i]\n",
    "        print(lists)\n",
    "    return lists\n",
    "\n",
    "numbers = [9,3,1,8,6,5,7,2,4]\n",
    "selection_sort(numbers)\n"
   ]
  },
  {
   "cell_type": "code",
   "execution_count": null,
   "metadata": {},
   "outputs": [],
   "source": [
    "\n",
    "# 插入排序\n",
    "def insertion_sort(lists):          \n",
    "    for j in range(1,len(lists)):   \n",
    "        key =lists[j]               \n",
    "        i=j-1                       \n",
    "        while i>=0 and lists[i]>key:\n",
    "            lists[i+1]=lists[i]     \n",
    "            i=i-1                   \n",
    "            lists[i+1]=key          \n",
    "        print(lists)\n",
    "    return lists\n",
    "\n",
    "numbers = [9,3,1,8,6,5,7,2,4]\n",
    "insertion_sort(numbers)\n"
   ]
  },
  {
   "cell_type": "code",
   "execution_count": null,
   "metadata": {},
   "outputs": [],
   "source": [
    "\n",
    "# 归并排序\n",
    "import math\n",
    "\n",
    "def merge_sort(lists):\n",
    "    if len(lists) <= 1:\n",
    "        return lists\n",
    "    num = math.ceil(len(lists) / 2)\n",
    "    left = merge_sort(lists[:num])\n",
    "    right = merge_sort(lists[num:])\n",
    "    return merge(left, right)\n",
    "\n",
    "def merge(left,right):\n",
    "    r, l=0, 0\n",
    "    result=[]\n",
    "    while l<len(left) and r<len(right):\n",
    "        if left[l] < right[r]:\n",
    "            result.append(left[l])\n",
    "            l += 1\n",
    "        else:\n",
    "            result.append(right[r])\n",
    "            r += 1\n",
    "    result += list(left[l:])\n",
    "    result += list(right[r:])\n",
    "    return result\n",
    "\n",
    "numbers = [5,4,2,3,1,6,7]\n",
    "result=merge_sort(numbers)\n",
    "print(result)\n"
   ]
  }
 ]
}